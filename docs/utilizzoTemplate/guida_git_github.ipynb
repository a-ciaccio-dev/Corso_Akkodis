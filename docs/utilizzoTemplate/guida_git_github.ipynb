{
 "cells": [
  {
   "cell_type": "markdown",
   "id": "b573c166",
   "metadata": {},
   "source": [
    "# 🔗 Collegare il Progetto a GitHub in Visual Studio Code"
   ]
  },
  {
   "cell_type": "markdown",
   "id": "e93a76b9",
   "metadata": {},
   "source": [
    "## 1. Inizializza Git nel progetto\n",
    "\n",
    "Apri il terminale integrato in Visual Studio Code e assicurati di essere nella cartella del tuo progetto. Poi esegui:\n",
    "```bash\n",
    "git init\n",
    "```"
   ]
  },
  {
   "cell_type": "markdown",
   "id": "48b24b59",
   "metadata": {},
   "source": [
    "## 2. Crea un file `.gitignore`\n",
    "\n",
    "Questo file indica a Git quali file o cartelle **non devono essere tracciati**. Per progetti Python, un buon punto di partenza è questo:\n",
    "\n",
    "```text\n",
    "# Ambiente virtuale\n",
    ".venv/\n",
    "\n",
    "# Cache di Python\n",
    "__pycache__/\n",
    "*.py[cod]\n",
    "\n",
    "# Editor\n",
    ".vscode/\n",
    ".idea/\n",
    "\n",
    "# Altri file da ignorare\n",
    "*.log\n",
    "*.sqlite3\n",
    ".DS_Store\n",
    "```\n",
    "\n",
    "Salva questo contenuto in un file chiamato `.gitignore` nella root del progetto."
   ]
  },
  {
   "cell_type": "markdown",
   "id": "9ab7660a",
   "metadata": {},
   "source": [
    "## 3. Crea un commit iniziale\n",
    "\n",
    "Aggiungi e registra i file nel repository locale:\n",
    "```bash\n",
    "git add .\n",
    "git commit -m \"Inizializzazione progetto con .gitignore\"\n",
    "```"
   ]
  },
  {
   "cell_type": "markdown",
   "id": "d1cc3a9a",
   "metadata": {},
   "source": [
    "## 4. Crea un repository su GitHub\n",
    "\n",
    "- Vai su [https://github.com](https://github.com)\n",
    "- Fai clic su `New Repository`\n",
    "- Dai un nome al repository (es. `template_progetto`)\n",
    "- **NON** selezionare l'opzione per creare un README o .gitignore (li hai già!)\n",
    "- Clicca su `Create repository`"
   ]
  },
  {
   "cell_type": "markdown",
   "id": "3e27b30c",
   "metadata": {},
   "source": [
    "## 5. Collega il tuo progetto locale al repository GitHub\n",
    "\n",
    "Dalla console VS Code, esegui:\n",
    "```bash\n",
    "git remote add origin https://github.com/TUO_USERNAME/template_progetto.git\n",
    "git branch -M main\n",
    "git push -u origin main\n",
    "```\n",
    "> Sostituisci `TUO_USERNAME` con il tuo nome utente GitHub"
   ]
  },
  {
   "cell_type": "markdown",
   "id": "c72f0a33",
   "metadata": {},
   "source": [
    "## ✅ Fine!\n",
    "\n",
    "Ora il tuo progetto è collegato a GitHub. Puoi gestire versioni, collaborare e tenere traccia dei tuoi aggiornamenti facilmente."
   ]
  }
 ],
 "metadata": {},
 "nbformat": 4,
 "nbformat_minor": 5
}
