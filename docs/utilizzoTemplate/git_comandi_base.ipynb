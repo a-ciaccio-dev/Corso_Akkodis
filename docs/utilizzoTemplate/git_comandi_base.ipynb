{
 "cells": [
  {
   "cell_type": "markdown",
   "id": "b5781b4e",
   "metadata": {},
   "source": [
    "# 🧠 Comandi Git e GitHub - Guida Pratica"
   ]
  },
  {
   "cell_type": "markdown",
   "id": "577ab4ef",
   "metadata": {},
   "source": [
    "Questa guida raccoglie i **comandi Git più comuni**, utili per lavorare con repository locali e remoti su GitHub, direttamente da terminale o Visual Studio Code."
   ]
  },
  {
   "cell_type": "markdown",
   "id": "473a3024",
   "metadata": {},
   "source": [
    "## 🔧 Inizializzare un nuovo repository Git\n",
    "```bash\n",
    "git init\n",
    "```"
   ]
  },
  {
   "cell_type": "markdown",
   "id": "ada45e83",
   "metadata": {},
   "source": [
    "## 👤 Configurare Git (una volta sola)\n",
    "```bash\n",
    "git config --global user.name \"Tuo Nome\"\n",
    "git config --global user.email \"tua@email.com\"\n",
    "```"
   ]
  },
  {
   "cell_type": "markdown",
   "id": "d58d821e",
   "metadata": {},
   "source": [
    "## 📥 Aggiungere file al tracking\n",
    "```bash\n",
    "git add nomefile.py          # Aggiunge un singolo file\n",
    "git add .                    # Aggiunge tutto il contenuto\n",
    "```"
   ]
  },
  {
   "cell_type": "markdown",
   "id": "a0535219",
   "metadata": {},
   "source": [
    "## 💾 Fare un commit\n",
    "```bash\n",
    "git commit -m \"Messaggio del commit\"\n",
    "```"
   ]
  },
  {
   "cell_type": "markdown",
   "id": "192ed09b",
   "metadata": {},
   "source": [
    "## 🔍 Verificare lo stato del repository\n",
    "```bash\n",
    "git status\n",
    "```"
   ]
  },
  {
   "cell_type": "markdown",
   "id": "917da6fd",
   "metadata": {},
   "source": [
    "## 🕒 Visualizzare la cronologia dei commit\n",
    "```bash\n",
    "git log\n",
    "```"
   ]
  },
  {
   "cell_type": "markdown",
   "id": "3bb2438e",
   "metadata": {},
   "source": [
    "## 🌍 Collegare un repository locale a GitHub\n",
    "```bash\n",
    "git remote add origin https://github.com/tuo_utente/tuo_repo.git\n",
    "git branch -M main\n",
    "git push -u origin main\n",
    "```"
   ]
  },
  {
   "cell_type": "markdown",
   "id": "9e94cc0b",
   "metadata": {},
   "source": [
    "## ⬆️ Inviare modifiche a GitHub\n",
    "```bash\n",
    "git push\n",
    "```"
   ]
  },
  {
   "cell_type": "markdown",
   "id": "9053d2ff",
   "metadata": {},
   "source": [
    "## ⬇️ Recuperare aggiornamenti da GitHub\n",
    "```bash\n",
    "git pull\n",
    "```"
   ]
  },
  {
   "cell_type": "markdown",
   "id": "b19b73fa",
   "metadata": {},
   "source": [
    "## 📥 Clonare un repository GitHub esistente\n",
    "```bash\n",
    "git clone https://github.com/utente/nome_repo.git\n",
    "```"
   ]
  },
  {
   "cell_type": "markdown",
   "id": "96aacc8a",
   "metadata": {},
   "source": [
    "## 🗑️ Rimuovere file dal tracking ma non dal disco\n",
    "```bash\n",
    "git rm --cached nome_cartella/\n",
    "```"
   ]
  },
  {
   "cell_type": "markdown",
   "id": "4541fabc",
   "metadata": {},
   "source": [
    "## 📄 Esempio di `.gitignore`\n",
    "```text\n",
    ".venv/\n",
    "__pycache__/\n",
    "*.pyc\n",
    ".vscode/\n",
    ".DS_Store\n",
    "```"
   ]
  }
 ],
 "metadata": {},
 "nbformat": 4,
 "nbformat_minor": 5
}
