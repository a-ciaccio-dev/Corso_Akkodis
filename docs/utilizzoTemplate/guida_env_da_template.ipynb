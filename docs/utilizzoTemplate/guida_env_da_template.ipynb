{
 "cells": [
  {
   "cell_type": "markdown",
   "id": "e058244c",
   "metadata": {},
   "source": [
    "# 🚀 Guida: Avviare un Nuovo Ambiente da un Template GitHub con VS Code"
   ]
  },
  {
   "cell_type": "markdown",
   "id": "7741317c",
   "metadata": {},
   "source": [
    "Questa guida ti spiega come partire da un template di progetto Python su GitHub e creare un nuovo ambiente di sviluppo completo usando **Visual Studio Code**."
   ]
  },
  {
   "cell_type": "markdown",
   "id": "ed24ab35",
   "metadata": {},
   "source": [
    "## ✅ 1. Clona il template da GitHub\n",
    "\n",
    "Apri **Visual Studio Code**, poi:\n",
    "\n",
    "### 🔹 Terminale > Nuovo Terminale\n",
    "\n",
    "Clona il tuo template con:\n",
    "```bash\n",
    "git clone https://github.com/tuo_username/template_progetto.git nuovo_progetto\n",
    "cd nuovo_progetto\n",
    "```\n",
    "\n",
    "Ora hai una **copia locale** del progetto template."
   ]
  },
  {
   "cell_type": "markdown",
   "id": "828a244a",
   "metadata": {},
   "source": [
    "## ✅ 2. Crea un nuovo ambiente virtuale\n",
    "\n",
    "Nel terminale:\n",
    "```bash\n",
    "python -m venv .venv\n",
    "```\n",
    "\n",
    "Questo crea una cartella `.venv` con il tuo nuovo ambiente isolato."
   ]
  },
  {
   "cell_type": "markdown",
   "id": "fbf0ad09",
   "metadata": {},
   "source": [
    "## ✅ 3. Attiva l’ambiente virtuale\n",
    "\n",
    "### 🪟 Su Windows:\n",
    "```bash\n",
    ".venv\\Scripts\\activate\n",
    "```\n",
    "\n",
    "### 🍎 Su macOS/Linux:\n",
    "```bash\n",
    "source .venv/bin/activate\n",
    "```\n",
    "\n",
    "Vedrai il prompt aggiornarsi con `(.venv)` ➜ sei dentro l'env ✅"
   ]
  },
  {
   "cell_type": "markdown",
   "id": "af387089",
   "metadata": {},
   "source": [
    "## ✅ 4. Installa le dipendenze\n",
    "\n",
    "Se hai un `requirements.txt` (dal template), installa con:\n",
    "```bash\n",
    "pip install -r requirements.txt\n",
    "```"
   ]
  },
  {
   "cell_type": "markdown",
   "id": "ce0c126c",
   "metadata": {},
   "source": [
    "## ✅ 5. (Opzionale) Seleziona l'interprete Python in VS Code\n",
    "\n",
    "- Premi `Ctrl+Shift+P` → `Python: Select Interpreter`\n",
    "- Scegli l’interprete che punta a `.venv`"
   ]
  },
  {
   "cell_type": "markdown",
   "id": "b537ab13",
   "metadata": {},
   "source": [
    "## ✅ 6. Inizia a lavorare\n",
    "\n",
    "Ora il progetto è tuo, con un nuovo environment e tutta la struttura del template!"
   ]
  },
  {
   "cell_type": "markdown",
   "id": "7e9ae444",
   "metadata": {},
   "source": [
    "## 🧼 Bonus: Disconnettere dal repository GitHub originale\n",
    "\n",
    "Se **non vuoi mantenere il collegamento al repo template**, fai:\n",
    "```bash\n",
    "git remote remove origin\n",
    "```\n",
    "\n",
    "Poi puoi creare un tuo nuovo repository su GitHub e fare:\n",
    "```bash\n",
    "git remote add origin https://github.com/tuo_username/nuovo_repo.git\n",
    "git push -u origin main\n",
    "```"
   ]
  }
 ],
 "metadata": {},
 "nbformat": 4,
 "nbformat_minor": 5
}
