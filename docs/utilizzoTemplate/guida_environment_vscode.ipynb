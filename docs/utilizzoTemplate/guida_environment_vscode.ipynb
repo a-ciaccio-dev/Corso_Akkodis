{
 "cells": [
  {
   "cell_type": "markdown",
   "id": "2e97f277",
   "metadata": {},
   "source": [
    "# 🐍 Creare un Environment Python in Visual Studio Code"
   ]
  },
  {
   "cell_type": "markdown",
   "id": "a38eac50",
   "metadata": {},
   "source": [
    "In questo notebook troverai tutti i passaggi necessari per creare e configurare un ambiente virtuale Python utilizzando **Visual Studio Code (VS Code)**."
   ]
  },
  {
   "cell_type": "markdown",
   "id": "f0d97a14",
   "metadata": {},
   "source": [
    "## 1. Crea la cartella del progetto\n",
    "\n",
    "Apri la tua cartella di lavoro e crea una nuova directory per il tuo progetto, ad esempio:\n",
    "```bash\n",
    "mkdir nome_progetto\n",
    "cd nome_progetto\n",
    "```"
   ]
  },
  {
   "cell_type": "markdown",
   "id": "d915395b",
   "metadata": {},
   "source": [
    "## 2. Apri la cartella in Visual Studio Code\n",
    "\n",
    "Apri VS Code, vai su `File > Apri cartella...` e seleziona la cartella del progetto."
   ]
  },
  {
   "cell_type": "markdown",
   "id": "7eae2546",
   "metadata": {},
   "source": [
    "## 3. Crea l’ambiente virtuale\n",
    "\n",
    "Apri il terminale integrato in VS Code (`Terminale > Nuovo terminale`) e digita:\n",
    "```bash\n",
    "python -m venv .venv\n",
    "```\n",
    "Questo comando crea una cartella `.venv` con l’ambiente virtuale."
   ]
  },
  {
   "cell_type": "markdown",
   "id": "d0d8bc35",
   "metadata": {},
   "source": [
    "## 4. Attiva l’ambiente virtuale\n",
    "\n",
    "- **Windows:**\n",
    "```bash\n",
    ".venv\\Scripts\\activate\n",
    "```\n",
    "- **macOS/Linux:**\n",
    "```bash\n",
    "source .venv/bin/activate\n",
    "```"
   ]
  },
  {
   "cell_type": "markdown",
   "id": "1eda3cd0",
   "metadata": {},
   "source": [
    "## 5. Seleziona l’interprete Python\n",
    "\n",
    "Premi `Ctrl+Shift+P` (o `Cmd+Shift+P` su Mac) e scegli:\n",
    "```\n",
    "Python: Select Interpreter\n",
    "```\n",
    "Seleziona l’interprete Python che punta alla cartella `.venv`."
   ]
  },
  {
   "cell_type": "markdown",
   "id": "98c28e8c",
   "metadata": {},
   "source": [
    "## 6. Attivazione automatica dell'ambiente\n",
    "\n",
    "Crea una cartella `.vscode` e un file `settings.json` dentro:\n",
    "```json\n",
    "{\n",
    "  \"python.terminal.activateEnvironment\": true\n",
    "}\n",
    "```\n",
    "Questo fa in modo che ogni nuovo terminale attivi automaticamente `.venv`."
   ]
  },
  {
   "cell_type": "markdown",
   "id": "24a937e2",
   "metadata": {},
   "source": [
    "## 7. Installa i pacchetti\n",
    "\n",
    "Installa ciò che ti serve:\n",
    "```bash\n",
    "pip install nome_pacchetto\n",
    "```\n",
    "Salva le dipendenze nel file `requirements.txt`:\n",
    "```bash\n",
    "pip freeze > requirements.txt\n",
    "```"
   ]
  },
  {
   "cell_type": "markdown",
   "id": "6fb70ded",
   "metadata": {},
   "source": [
    "## 8. Usa l’ambiente nel tuo progetto\n",
    "\n",
    "Puoi ora scrivere ed eseguire script Python nel contesto dell’ambiente attivato. Il terminale userà automaticamente le librerie installate in `.venv`."
   ]
  },
  {
   "cell_type": "markdown",
   "id": "20400fd8",
   "metadata": {},
   "source": [
    "## 9. Aggiungi `.venv` a `.gitignore`\n",
    "\n",
    "Nel file `.gitignore`, assicurati di escludere l’ambiente virtuale:\n",
    "```\n",
    ".venv/\n",
    "```"
   ]
  }
 ],
 "metadata": {},
 "nbformat": 4,
 "nbformat_minor": 5
}
