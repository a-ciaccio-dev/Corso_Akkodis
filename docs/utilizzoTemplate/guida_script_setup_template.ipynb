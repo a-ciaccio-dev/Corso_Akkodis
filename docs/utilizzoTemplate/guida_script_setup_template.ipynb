{
 "cells": [
  {
   "cell_type": "markdown",
   "id": "095873ba",
   "metadata": {},
   "source": [
    "# ⚙️ Guida all'Uso dello Script `setup_from_template.bat`"
   ]
  },
  {
   "cell_type": "markdown",
   "id": "8ec59cb5",
   "metadata": {},
   "source": [
    "Questo notebook ti guida passo-passo nell'uso dello script `setup_from_template.bat`, che automatizza la creazione di un nuovo progetto Python da un template GitHub, compreso l'ambiente virtuale."
   ]
  },
  {
   "cell_type": "markdown",
   "id": "4708ebad",
   "metadata": {},
   "source": [
    "## 📥 1. Scarica lo script\n",
    "\n",
    "Scarica il file [`setup_from_template.bat`](setup_from_template.bat) e salvalo in una cartella comoda, ad esempio `Desktop` o `Documenti`."
   ]
  },
  {
   "cell_type": "markdown",
   "id": "832b52c9",
   "metadata": {},
   "source": [
    "## ▶️ 2. Esegui lo script\n",
    "\n",
    "Fai doppio clic sul file oppure eseguilo da terminale (Prompt dei comandi):\n",
    "\n",
    "```cmd\n",
    "cd percorso\\dove\\hai\\messo\\lo\\script\n",
    "setup_from_template.bat\n",
    "```"
   ]
  },
  {
   "cell_type": "markdown",
   "id": "1d93470e",
   "metadata": {},
   "source": [
    "## 🧾 3. Inserisci le informazioni richieste\n",
    "\n",
    "Lo script ti chiederà due input:\n",
    "\n",
    "1. **URL del repository template GitHub** (esempio):\n",
    "   ```\n",
    "   https://github.com/tuo_username/template_progetto.git\n",
    "   ```\n",
    "2. **Percorso della nuova cartella del progetto** (esempio):\n",
    "   ```\n",
    "   C:\\Users\\Mario\\Documents\\Progetti\\nuovo_progetto\n",
    "   ```"
   ]
  },
  {
   "cell_type": "markdown",
   "id": "3043c22e",
   "metadata": {},
   "source": [
    "## 🔧 4. Cosa fa lo script\n",
    "\n",
    "- Clona il repository GitHub nella nuova cartella\n",
    "- Crea l'ambiente `.venv`\n",
    "- Attiva l'ambiente virtuale\n",
    "- Installa i pacchetti da `requirements.txt` (se presente)\n",
    "- (Opzionale) Rimuove il collegamento al repository remoto del template"
   ]
  },
  {
   "cell_type": "markdown",
   "id": "018b8050",
   "metadata": {},
   "source": [
    "## ✅ Fine!\n",
    "\n",
    "A questo punto il tuo progetto è pronto all'uso con ambiente configurato. Apri la cartella in **Visual Studio Code** e inizia a lavorare!"
   ]
  }
 ],
 "metadata": {},
 "nbformat": 4,
 "nbformat_minor": 5
}
