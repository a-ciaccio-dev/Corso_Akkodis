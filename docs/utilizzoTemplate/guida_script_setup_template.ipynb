{
 "cells": [
  {
   "cell_type": "markdown",
   "id": "16e056b3",
   "metadata": {},
   "source": [
    "# ⚙️ Guida all'Uso dello Script `setup_from_template.bat`"
   ]
  },
  {
   "cell_type": "markdown",
   "id": "72d920a8",
   "metadata": {},
   "source": [
    "Questo notebook ti guida passo-passo nell'uso dello script `setup_from_template.bat`, che automatizza la creazione di un nuovo progetto Python da un template GitHub, compreso l'ambiente virtuale."
   ]
  },
  {
   "cell_type": "markdown",
   "id": "9f4c2188",
   "metadata": {},
   "source": [
    "## 📥 1. Scarica lo script\n",
    "\n",
    "Scarica il file [`setup_from_template.bat`](setup_from_template.bat) e salvalo in una cartella comoda, ad esempio `Desktop` o `Documenti`."
   ]
  },
  {
   "cell_type": "markdown",
   "id": "9c8cf12f",
   "metadata": {},
   "source": [
    "## ▶️ 2. Esegui lo script\n",
    "\n",
    "Fai doppio clic sul file oppure eseguilo da terminale (Prompt dei comandi):\n",
    "\n",
    "```cmd\n",
    "cd percorso\\dove\\hai\\messo\\lo\\script\n",
    "setup_from_template.bat\n",
    "```"
   ]
  },
  {
   "cell_type": "markdown",
   "id": "55382349",
   "metadata": {},
   "source": [
    "## 🧾 3. Inserisci le informazioni richieste\n",
    "\n",
    "Lo script ti chiederà due input:\n",
    "\n",
    "1. **URL del repository template GitHub** (esempio):\n",
    "   ```\n",
    "   https://github.com/tuo_username/template_progetto.git\n",
    "   ```\n",
    "2. **Percorso della nuova cartella del progetto** (esempio):\n",
    "   ```\n",
    "   C:\\Users\\Mario\\Documents\\Progetti\\nuovo_progetto\n",
    "   ```"
   ]
  },
  {
   "cell_type": "markdown",
   "id": "5f8ac9d3",
   "metadata": {},
   "source": [
    "## 🔧 4. Cosa fa lo script\n",
    "\n",
    "- Clona il repository GitHub nella nuova cartella\n",
    "- Crea l'ambiente `.venv`\n",
    "- Attiva l'ambiente virtuale\n",
    "- Installa i pacchetti da `requirements.txt` (se presente)"
   ]
  },
  {
   "cell_type": "markdown",
   "id": "e0ba9ef6",
   "metadata": {},
   "source": [
    "## 🔌 5. (Facoltativo) Disconnettere dal repository GitHub originale\n",
    "\n",
    "Se non vuoi mantenere il collegamento al repository template, puoi rimuovere il `remote origin` manualmente:\n",
    "\n",
    "Apri il terminale nella cartella del tuo progetto e digita:\n",
    "```bash\n",
    "git remote remove origin\n",
    "```\n",
    "\n",
    "A questo punto, puoi collegarlo a un nuovo repository tuo con:\n",
    "```bash\n",
    "git remote add origin https://github.com/tuo_username/nuovo_repo.git\n",
    "git push -u origin main\n",
    "```"
   ]
  },
  {
   "cell_type": "markdown",
   "id": "25111d24",
   "metadata": {},
   "source": [
    "## ✅ Fine!\n",
    "\n",
    "A questo punto il tuo progetto è pronto all'uso con ambiente configurato. Apri la cartella in **Visual Studio Code** e inizia a lavorare!"
   ]
  }
 ],
 "metadata": {},
 "nbformat": 4,
 "nbformat_minor": 5
}
